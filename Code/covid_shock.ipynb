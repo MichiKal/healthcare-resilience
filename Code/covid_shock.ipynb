{
 "cells": [
  {
   "cell_type": "markdown",
   "metadata": {},
   "source": [
    "# Analyse large \"covid\" shock events\n",
    "* plot searching patients within one shock\n",
    "* save in table format"
   ]
  },
  {
   "cell_type": "code",
   "execution_count": null,
   "metadata": {},
   "outputs": [],
   "source": [
    "import numpy as np\n",
    "import pandas as pd\n",
    "import matplotlib.pyplot as plt\n",
    "import seaborn as sns"
   ]
  },
  {
   "cell_type": "code",
   "execution_count": null,
   "metadata": {},
   "outputs": [],
   "source": [
    "### define shock size and physicians\n",
    "shock = 15\n",
    "doclist = list(['AM','IM','KI','PSY','ORTR','RAD','DER','URO','HNO','CH','NEU','AU','GGH'])\n",
    "\n",
    "### define for renaming specialist in english\n",
    "doc_list = {'DE':['AM', 'AU', 'CH', 'DER', 'GGH', 'HNO', 'IM', 'KI', 'NEU', 'ORTR','PSY', 'RAD', 'URO'],\n",
    "            'EN':['GP','OPH','SRG','DER','OBGYN','ENT','IM','PED','NEU','ORTH','PSY','RAD','URO']}"
   ]
  },
  {
   "cell_type": "code",
   "execution_count": null,
   "metadata": {
    "scrolled": true
   },
   "outputs": [],
   "source": [
    "all_dta = pd.DataFrame()\n",
    "\n",
    "### import sim results\n",
    "for doc in doclist:    \n",
    "    dta = pd.read_csv('results/searching_pats_{}_iter10_shocksize{}.csv'.format(doc,shock),header=None)\n",
    "    dta = dta.astype(int)\n",
    "\n",
    "    ### import general info on patient numbers\n",
    "    pats = pd.read_excel('results/states_doc_info_total_hour-based_quarterly.xlsx')\n",
    "\n",
    "    pats = pd.DataFrame(pats.sum(axis=0)).T\n",
    "\n",
    "    ### switch to long format for seaborn plotting\n",
    "    dta2 = pd.DataFrame(columns=['shock','searching','at_doc','at_doc_rel','speciality','speciality_en'])\n",
    "    for i in range(len(dta)):\n",
    "        dta_ad = pd.DataFrame()\n",
    "        dta_ad['searching'] = dta.loc[:,i].copy()\n",
    "        dta_ad['at_doc'] = pats.loc[0,'{}_total'.format(doc)] - dta_ad['searching']\n",
    "        dta_ad['at_doc_rel'] = dta_ad['at_doc'] / pats.loc[0,'{}_total'.format(doc)] * 100\n",
    "        dta_ad['shock'] = i\n",
    "        dta_ad['speciality'] = doc\n",
    "        dta_ad['speciality_en'] = doc_list['EN'][doc_list['DE'].index(doc)]\n",
    "        dta2 = pd.concat([dta2,dta_ad])\n",
    "\n",
    "    ### add pre-shock points\n",
    "    dta2 = dta2.append({'shock':-1,'searching':0,'at_doc':pats.loc[0,'{}_total'.format(doc)],\n",
    "                 'at_doc_rel':100,'speciality':doc,'speciality_en':doc_list['EN'][doc_list['DE'].index(doc)]},ignore_index=True)\n",
    "    dta2 = dta2.append({'shock':-2,'searching':0,'at_doc':pats.loc[0,'{}_total'.format(doc)],\n",
    "                 'at_doc_rel':100,'speciality':doc,'speciality_en':doc_list['EN'][doc_list['DE'].index(doc)]},ignore_index=True)\n",
    "    dta2 = dta2.append({'shock':-3,'searching':0,'at_doc':pats.loc[0,'{}_total'.format(doc)],\n",
    "                 'at_doc_rel':100,'speciality':doc,'speciality_en':doc_list['EN'][doc_list['DE'].index(doc)]},ignore_index=True)\n",
    "    \n",
    "    all_dta = pd.concat([all_dta,dta2])"
   ]
  },
  {
   "cell_type": "code",
   "execution_count": null,
   "metadata": {},
   "outputs": [],
   "source": [
    "### plot all specialists in single graphs with gray lines of all other docs for comparison\n",
    "\n",
    "figs, axs = plt.subplots(5,3,figsize=(11,14))\n",
    "r = 0\n",
    "c = 0\n",
    "### import sim results\n",
    "for doc in doclist:\n",
    "    if (c==3):\n",
    "        r+=1; c=0    \n",
    "    doc_en = doc_list['EN'][doc_list['DE'].index(doc)]\n",
    "\n",
    "    ### highlight only one specialist\n",
    "    colors = ['lightgray' for x in range(len(doclist))]\n",
    "    colors[-1] = 'blue'\n",
    "    \n",
    "    ### get docs in correct order\n",
    "    a = list(all_dta.speciality.unique())\n",
    "    a.remove(doc)\n",
    "    a.append(doc)\n",
    "\n",
    "    sns.lineplot(x='shock',y='at_doc_rel',data = all_dta,hue = 'speciality',hue_order=a,\n",
    "                 palette = colors,linewidth=.8,ax = axs[r,c])\n",
    "    if c==0:\n",
    "        axs[r,c].set_ylabel('At physician [%]',fontsize=16)\n",
    "    else:\n",
    "        axs[r,c].set_ylabel('')\n",
    "        \n",
    "    axs[r,c].set_xlabel('Displacement steps',fontsize=16)\n",
    "    if (r==4)&((c==1)|(c==2)):\n",
    "        axs[r,c].set_xlabel('')\n",
    "    \n",
    "    axs[r,c].tick_params(axis='y', labelsize=12)\n",
    "    axs[r,c].set_xticks(np.arange(-3,10,1))\n",
    "    axs[r,c].set_xticklabels(['','pre-shock','',1,2,3,4,5,6,7,8,9,10],fontsize=12)\n",
    "    axs[r,c].axvline(-1,color='r',alpha=0.8)\n",
    "    axs[r,c].axhline(100,color='k',alpha=0.8,linestyle='--')\n",
    "    min_y = 88\n",
    "    axs[r,c].text(x=-.9,y=min_y+0.5,s='shock',fontsize=16,color='r')\n",
    "    axs[r,c].set_ylim([min_y,100.7])\n",
    "    axs[r,c].set_title('{}'.format(doc_en),fontsize=16)\n",
    "    axs[r,c].get_legend().remove()\n",
    "    \n",
    "    c+=1\n",
    "    \n",
    "axs[-1, -1].axis('off')\n",
    "axs[-1, -2].axis('off')\n",
    "\n",
    "plt.suptitle('Resilience curves - shock size = {}%'.format(shock),fontsize=18,y=0.99)\n",
    "plt.tight_layout()\n",
    "plt.savefig('figures/covid_shock_grays_size{}.png'.format(shock),dpi=250,format='png')\n",
    "plt.savefig('figures/covid_shock_grays_size{}.svg'.format(shock),format='svg')\n",
    "plt.show()"
   ]
  },
  {
   "cell_type": "markdown",
   "metadata": {},
   "source": [
    "## Create table with averaged values\n",
    "* mean and std over 10 iterations for each specialty"
   ]
  },
  {
   "cell_type": "code",
   "execution_count": null,
   "metadata": {},
   "outputs": [],
   "source": [
    "all_dta['rel_searching'] = 100-all_dta['at_doc_rel']\n",
    "\n",
    "lst_all = []\n",
    "for doc in all_dta.speciality_en.unique():\n",
    "    fin_tab_ad = pd.DataFrame(columns=['specialty','start_mean','start_std','end_mean','end_std'])\n",
    "    start_mean = all_dta.loc[(all_dta.speciality_en==doc)&(all_dta.shock==0),'rel_searching'].mean()\n",
    "    start_std = all_dta.loc[(all_dta.speciality_en==doc)&(all_dta.shock==0),'rel_searching'].std()\n",
    "    \n",
    "    end_mean = all_dta.loc[(all_dta.speciality_en==doc)&(all_dta.shock==9),'rel_searching'].mean()\n",
    "    end_std = all_dta.loc[(all_dta.speciality_en==doc)&(all_dta.shock==9),'rel_searching'].std()\n",
    "    \n",
    "    lst = list([doc,start_mean,start_std,end_mean,end_std])\n",
    "    lst_all.append(lst)\n",
    "\n",
    "lst_all = pd.DataFrame(lst_all,columns=['specialty','step0_mean_perc','step0_std_perc','step9_mean_perc','step9_std_perc'])\n",
    "lst_all.to_csv('results/shock_table_size{}.csv'.format(shock),index=False)"
   ]
  },
  {
   "cell_type": "code",
   "execution_count": null,
   "metadata": {},
   "outputs": [],
   "source": [
    "lst_all"
   ]
  },
  {
   "cell_type": "code",
   "execution_count": null,
   "metadata": {},
   "outputs": [],
   "source": []
  }
 ],
 "metadata": {
  "kernelspec": {
   "display_name": "Python 3",
   "language": "python",
   "name": "python3"
  },
  "language_info": {
   "codemirror_mode": {
    "name": "ipython",
    "version": 3
   },
   "file_extension": ".py",
   "mimetype": "text/x-python",
   "name": "python",
   "nbconvert_exporter": "python",
   "pygments_lexer": "ipython3",
   "version": "3.8.5"
  }
 },
 "nbformat": 4,
 "nbformat_minor": 4
}
