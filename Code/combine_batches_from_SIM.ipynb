{
 "cells": [
  {
   "cell_type": "markdown",
   "metadata": {},
   "source": [
    "# Combine batches of data into single files\n",
    "* for all specialities"
   ]
  },
  {
   "cell_type": "code",
   "execution_count": 1,
   "metadata": {},
   "outputs": [],
   "source": [
    "import pandas as pd\n",
    "import numpy as np\n",
    "import matplotlib.pyplot as plt\n",
    "import seaborn as sns\n",
    "import os\n",
    "from os.path import join"
   ]
  },
  {
   "cell_type": "code",
   "execution_count": 2,
   "metadata": {},
   "outputs": [],
   "source": [
    "# list of all doctors 'IM','KI','PSY','ORTR','RAD','DER','URO','HNO','CH','NEU','AU','GGH','AM'\n",
    "doctors = list(['IM','KI','PSY','ORTR','RAD','DER','URO','HNO','CH','NEU','AU','GGH','AM'])"
   ]
  },
  {
   "cell_type": "code",
   "execution_count": 3,
   "metadata": {},
   "outputs": [],
   "source": [
    "### simulation parameters\n",
    "batches = np.arange(1,11)\n",
    "iterations = 10\n",
    "shocks = 5000\n",
    "remov = 1\n",
    "alpha = 0.0          # might create error if just \"0\" and not \"0.0\" depending on formating\n",
    "max_steps = 10\n",
    "kd = 1                             \n",
    "threshold = 0.9\n",
    "max_dist = 100\n",
    "max_dist_trials = 10\n",
    "min_pats = 2\n",
    "network = 'Österreich'"
   ]
  },
  {
   "cell_type": "code",
   "execution_count": 4,
   "metadata": {
    "scrolled": true
   },
   "outputs": [],
   "source": [
    "# total number of iterations\n",
    "total_iter = len(batches) * iterations\n",
    "\n",
    "for doc in doctors:\n",
    "    # define dataframe to save everything into\n",
    "    dta = pd.DataFrame()\n",
    "\n",
    "    for batch in batches:\n",
    "        sim_params = 'patient_dynamics_iter{}_shocks{}_remove{}_alpha{}_maxs{}_th{}_kd{}_maxdist{}_maxdisttrials{}_minpats{}_{}_Final_batch_{}.csv'\\\n",
    "                    .format(iterations, shocks, remov, alpha, max_steps, threshold, kd,max_dist,max_dist_trials,min_pats,doc,batch)\n",
    "        dta_load = pd.read_csv('results/'+sim_params)\n",
    "        \n",
    "\n",
    "        sim_params_new = 'patient_dynamics_iter{}_shocks{}_remove{}_alpha{}_maxs{}_th{}_kd{}_maxdist{}_maxdisttrials{}_minpats{}_{}_Final_.csv'\\\n",
    "                    .format(total_iter, shocks, remov, alpha, max_steps, threshold, kd,max_dist,max_dist_trials,min_pats,doc)\n",
    "        dta = pd.concat([dta,dta_load])\n",
    "    dta.to_csv('results/'+sim_params_new)"
   ]
  },
  {
   "cell_type": "code",
   "execution_count": null,
   "metadata": {},
   "outputs": [],
   "source": []
  }
 ],
 "metadata": {
  "kernelspec": {
   "display_name": "Python 3",
   "language": "python",
   "name": "python3"
  },
  "language_info": {
   "codemirror_mode": {
    "name": "ipython",
    "version": 3
   },
   "file_extension": ".py",
   "mimetype": "text/x-python",
   "name": "python",
   "nbconvert_exporter": "python",
   "pygments_lexer": "ipython3",
   "version": "3.8.5"
  }
 },
 "nbformat": 4,
 "nbformat_minor": 2
}
