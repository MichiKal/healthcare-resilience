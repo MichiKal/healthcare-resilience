{
 "cells": [
  {
   "cell_type": "markdown",
   "metadata": {},
   "source": [
    "# Create Distance matrix based on municipalities\n",
    "* for whole network, between all municipalities\n",
    "* like an adj.matrix, create matrix with distances between dos"
   ]
  },
  {
   "cell_type": "code",
   "execution_count": null,
   "metadata": {},
   "outputs": [],
   "source": [
    "import pandas as pd\n",
    "import numpy as np\n",
    "import scipy as sp\n",
    "from os.path import join\n",
    "\n",
    "from scipy import sparse"
   ]
  },
  {
   "cell_type": "code",
   "execution_count": null,
   "metadata": {},
   "outputs": [],
   "source": [
    "### load data files\n",
    "DM = pd.read_csv('data/DistanceMatrix.csv',index_col=0,header=0)\n",
    "MF = pd.read_csv('data/matched_and_imputed_doctors.csv')\n",
    "AM = sparse.load_npz(join('data', 'adj_all_doctors.npz'))\n",
    "\n",
    "MF['adj_index'] = MF.index\n",
    "\n",
    "### load doc info with adjacency indices\n",
    "doc_IDs = MF[['adj_index','gemeinde']]"
   ]
  },
  {
   "cell_type": "markdown",
   "metadata": {},
   "source": [
    "## Create distance matrix between all doctors (like adj.matrix)\n",
    "* for all connections write distance between their municipalities"
   ]
  },
  {
   "cell_type": "code",
   "execution_count": null,
   "metadata": {
    "scrolled": true
   },
   "outputs": [],
   "source": [
    "AM = AM.todense()\n",
    "\n",
    "AM_upper = np.triu(AM)\n",
    "\n",
    "ind_row = np.where(AM_upper)[0]\n",
    "ind_col = np.where(AM_upper)[1]\n",
    "\n",
    "### dist matrix for docs\n",
    "DM_docs = np.zeros((np.size(AM,0),np.size(AM,0)))\n",
    "\n",
    "for i in np.arange(0,len(ind_row),1):\n",
    "    DM_docs[ind_row[i],ind_col[i]] = DM.loc[doc_IDs.loc[doc_IDs.adj_index == ind_row[i],'gemeinde'].item(),\n",
    "                                            str(doc_IDs.loc[doc_IDs.adj_index == ind_col[i],'gemeinde'].item())]\n",
    "    DM_docs[ind_col[i],ind_row[i]] = DM_docs[ind_row[i],ind_col[i]]\n",
    "    \n",
    "    if np.mod(i,100000) == 0:\n",
    "        print(i)\n",
    "        \n",
    "\n",
    "DM_docs_sparse = sp.sparse.csc_matrix(DM_docs)"
   ]
  },
  {
   "cell_type": "code",
   "execution_count": null,
   "metadata": {
    "scrolled": true
   },
   "outputs": [],
   "source": [
    "sp.sparse.save_npz('data/DistanceMatrixDocs.npz',DM_docs_sparse)"
   ]
  },
  {
   "cell_type": "code",
   "execution_count": null,
   "metadata": {},
   "outputs": [],
   "source": []
  }
 ],
 "metadata": {
  "kernelspec": {
   "display_name": "Python 3",
   "language": "python",
   "name": "python3"
  },
  "language_info": {
   "codemirror_mode": {
    "name": "ipython",
    "version": 3
   },
   "file_extension": ".py",
   "mimetype": "text/x-python",
   "name": "python",
   "nbconvert_exporter": "python",
   "pygments_lexer": "ipython3",
   "version": "3.8.5"
  }
 },
 "nbformat": 4,
 "nbformat_minor": 4
}
