{
 "cells": [
  {
   "cell_type": "markdown",
   "metadata": {},
   "source": [
    "# Create distance matrix (direct distance in km) between municipalities\n",
    "* Gemeinde = municipality"
   ]
  },
  {
   "cell_type": "code",
   "execution_count": 2,
   "metadata": {},
   "outputs": [],
   "source": [
    "import pandas as pd\n",
    "import numpy as np\n",
    "import geopy\n",
    "from geopy.geocoders import Nominatim\n",
    "from geopy import distance\n",
    "\n",
    "### for progress bar in loops\n",
    "from ipywidgets import IntProgress\n",
    "from IPython.display import display\n",
    "import time"
   ]
  },
  {
   "cell_type": "markdown",
   "metadata": {},
   "source": [
    "## Read in file including geolocation of municipalities"
   ]
  },
  {
   "cell_type": "code",
   "execution_count": 3,
   "metadata": {},
   "outputs": [],
   "source": [
    "HCP = pd.read_csv('data/municipality_geolocations.csv', encoding='utf-8')"
   ]
  },
  {
   "cell_type": "code",
   "execution_count": 4,
   "metadata": {},
   "outputs": [],
   "source": [
    "# read file from statistik austria\n",
    "GEM = pd.read_excel('data/gemliste_knz.xls',usecols=['Gemeinde kennziffer', 'Gemeindename','PLZ des Gem.Amtes'],\n",
    "            skiprows=3, nrows=2117, dtype={'Gemeinde kennziffer':int,'Gemeindename':str,'PLZ des Gem.Amtes':int})\n",
    "GEM.rename(columns={'Gemeinde kennziffer':'GKZ','PLZ des Gem.Amtes':'PLZ'},inplace=True)\n",
    "\n",
    "\n",
    "HCP = HCP.join(GEM.set_index('PLZ'),on='PLZ')\n",
    "HCP.reset_index(drop=True,inplace=True)\n",
    "HCP.drop(np.where(~np.isfinite(HCP.GKZ))[0].item(),inplace=True)\n",
    "HCP.GKZ = HCP.GKZ.astype(int)\n",
    "\n",
    "\n",
    "HCP.drop_duplicates(['GKZ','Gemeindename'],keep='first',inplace=True)\n",
    "HCP.reset_index(drop=True,inplace=True)"
   ]
  },
  {
   "cell_type": "markdown",
   "metadata": {},
   "source": [
    "## Add municipality to distance matrix\n",
    "* some municipalities not in files - add manually after SIM error"
   ]
  },
  {
   "cell_type": "markdown",
   "metadata": {},
   "source": [
    "distmatrix = pd.read_csv('DistanceMatrix.csv',index_col=0,header=0)\n",
    "HCP = pd.read_csv('Gemeinden_geoloc.csv',index_col=0,header=0)"
   ]
  },
  {
   "cell_type": "code",
   "execution_count": 5,
   "metadata": {},
   "outputs": [],
   "source": [
    "### new gemeinde\n",
    "gkz = 41625\n",
    "new_name = 'Vorderweißenbach'\n",
    "new_lat = 48.55\n",
    "new_long = 14.2166667\n",
    "new_PLZ = 4191\n",
    "\n",
    "HCP = HCP.append({'Gemeinde name': new_name,'Gem. lat':new_lat,'Gem. lng':new_long,'PLZ':new_PLZ,\n",
    "           'GKZ':gkz,'Gemeindename':new_name}, ignore_index=True)"
   ]
  },
  {
   "cell_type": "code",
   "execution_count": 6,
   "metadata": {},
   "outputs": [],
   "source": [
    "### new gemeinde\n",
    "gkz = 40819\n",
    "new_name = 'Peuerbach'\n",
    "new_lat = 48.345556\n",
    "new_long = 13.774167\n",
    "new_PLZ = 4722\n",
    "\n",
    "HCP = HCP.append({'Gemeinde name': new_name,'Gem. lat':new_lat,'Gem. lng':new_long,'PLZ':new_PLZ,\n",
    "           'GKZ':gkz,'Gemeindename':new_name}, ignore_index=True)"
   ]
  },
  {
   "cell_type": "code",
   "execution_count": 7,
   "metadata": {},
   "outputs": [],
   "source": [
    "### new gemeinde\n",
    "gkz = 61058\n",
    "new_name = 'Vogau'\n",
    "new_lat = 46.731944\n",
    "new_long = 15.600278\n",
    "new_PLZ = 8472\n",
    "\n",
    "HCP = HCP.append({'Gemeinde name': new_name,'Gem. lat':new_lat,'Gem. lng':new_long,'PLZ':new_PLZ,\n",
    "           'GKZ':gkz,'Gemeindename':new_name}, ignore_index=True)"
   ]
  },
  {
   "cell_type": "code",
   "execution_count": 8,
   "metadata": {},
   "outputs": [],
   "source": [
    "### new gemeinde\n",
    "gkz = 62347\n",
    "new_name = 'Murfeld'\n",
    "new_lat = 46.712869\n",
    "new_long = 15.692617\n",
    "new_PLZ = 8423\n",
    "\n",
    "HCP = HCP.append({'Gemeinde name': new_name,'Gem. lat':new_lat,'Gem. lng':new_long,'PLZ':new_PLZ,\n",
    "           'GKZ':gkz,'Gemeindename':new_name}, ignore_index=True)"
   ]
  },
  {
   "cell_type": "code",
   "execution_count": 9,
   "metadata": {},
   "outputs": [],
   "source": [
    "### new gemeinde\n",
    "gkz = 41310\n",
    "new_name = 'Helfenberg'\n",
    "new_lat = 48.533333\n",
    "new_long = 14.133333\n",
    "new_PLZ = 4184\n",
    "\n",
    "HCP = HCP.append({'Gemeinde name': new_name,'Gem. lat':new_lat,'Gem. lng':new_long,'PLZ':new_PLZ,\n",
    "           'GKZ':gkz,'Gemeindename':new_name}, ignore_index=True)"
   ]
  },
  {
   "cell_type": "code",
   "execution_count": 10,
   "metadata": {},
   "outputs": [],
   "source": [
    "### new gemeinde\n",
    "gkz = 61056\n",
    "new_name = 'Reigersdorf'\n",
    "new_lat = 46.649600\n",
    "new_long = 14.403000\n",
    "new_PLZ = 9064\n",
    "\n",
    "HCP = HCP.append({'Gemeinde name': new_name,'Gem. lat':new_lat,'Gem. lng':new_long,'PLZ':new_PLZ,\n",
    "           'GKZ':gkz,'Gemeindename':new_name}, ignore_index=True)"
   ]
  },
  {
   "cell_type": "code",
   "execution_count": 11,
   "metadata": {},
   "outputs": [
    {
     "data": {
      "text/html": [
       "<div>\n",
       "<style scoped>\n",
       "    .dataframe tbody tr th:only-of-type {\n",
       "        vertical-align: middle;\n",
       "    }\n",
       "\n",
       "    .dataframe tbody tr th {\n",
       "        vertical-align: top;\n",
       "    }\n",
       "\n",
       "    .dataframe thead th {\n",
       "        text-align: right;\n",
       "    }\n",
       "</style>\n",
       "<table border=\"1\" class=\"dataframe\">\n",
       "  <thead>\n",
       "    <tr style=\"text-align: right;\">\n",
       "      <th></th>\n",
       "      <th>Gemeinde name</th>\n",
       "      <th>Gem. lat</th>\n",
       "      <th>Gem. lng</th>\n",
       "      <th>PLZ</th>\n",
       "      <th>GKZ</th>\n",
       "      <th>Gemeindename</th>\n",
       "    </tr>\n",
       "  </thead>\n",
       "  <tbody>\n",
       "    <tr>\n",
       "      <th>2113</th>\n",
       "      <td>Adnet 5421 Gemeindeamt</td>\n",
       "      <td>47.696628</td>\n",
       "      <td>13.131849</td>\n",
       "      <td>5421</td>\n",
       "      <td>50202</td>\n",
       "      <td>Adnet</td>\n",
       "    </tr>\n",
       "    <tr>\n",
       "      <th>2114</th>\n",
       "      <td>Namlos 6623 Gemeindeamt</td>\n",
       "      <td>47.364252</td>\n",
       "      <td>10.671598</td>\n",
       "      <td>6623</td>\n",
       "      <td>70823</td>\n",
       "      <td>Namlos</td>\n",
       "    </tr>\n",
       "    <tr>\n",
       "      <th>2115</th>\n",
       "      <td>Groß-Siegharts 3812 Gemeindeamt</td>\n",
       "      <td>48.791500</td>\n",
       "      <td>15.406551</td>\n",
       "      <td>3812</td>\n",
       "      <td>32207</td>\n",
       "      <td>Groß-Siegharts</td>\n",
       "    </tr>\n",
       "    <tr>\n",
       "      <th>2116</th>\n",
       "      <td>Bischofstetten 3232 Gemeindeamt</td>\n",
       "      <td>48.123478</td>\n",
       "      <td>15.470588</td>\n",
       "      <td>3232</td>\n",
       "      <td>31504</td>\n",
       "      <td>Bischofstetten</td>\n",
       "    </tr>\n",
       "    <tr>\n",
       "      <th>2117</th>\n",
       "      <td>Vorderweißenbach</td>\n",
       "      <td>48.550000</td>\n",
       "      <td>14.216667</td>\n",
       "      <td>4191</td>\n",
       "      <td>41625</td>\n",
       "      <td>Vorderweißenbach</td>\n",
       "    </tr>\n",
       "    <tr>\n",
       "      <th>2118</th>\n",
       "      <td>Peuerbach</td>\n",
       "      <td>48.345556</td>\n",
       "      <td>13.774167</td>\n",
       "      <td>4722</td>\n",
       "      <td>40819</td>\n",
       "      <td>Peuerbach</td>\n",
       "    </tr>\n",
       "    <tr>\n",
       "      <th>2119</th>\n",
       "      <td>Vogau</td>\n",
       "      <td>46.731944</td>\n",
       "      <td>15.600278</td>\n",
       "      <td>8472</td>\n",
       "      <td>61058</td>\n",
       "      <td>Vogau</td>\n",
       "    </tr>\n",
       "    <tr>\n",
       "      <th>2120</th>\n",
       "      <td>Murfeld</td>\n",
       "      <td>46.712869</td>\n",
       "      <td>15.692617</td>\n",
       "      <td>8423</td>\n",
       "      <td>62347</td>\n",
       "      <td>Murfeld</td>\n",
       "    </tr>\n",
       "    <tr>\n",
       "      <th>2121</th>\n",
       "      <td>Helfenberg</td>\n",
       "      <td>48.533333</td>\n",
       "      <td>14.133333</td>\n",
       "      <td>4184</td>\n",
       "      <td>41310</td>\n",
       "      <td>Helfenberg</td>\n",
       "    </tr>\n",
       "    <tr>\n",
       "      <th>2122</th>\n",
       "      <td>Reigersdorf</td>\n",
       "      <td>46.649600</td>\n",
       "      <td>14.403000</td>\n",
       "      <td>9064</td>\n",
       "      <td>61056</td>\n",
       "      <td>Reigersdorf</td>\n",
       "    </tr>\n",
       "  </tbody>\n",
       "</table>\n",
       "</div>"
      ],
      "text/plain": [
       "                        Gemeinde name   Gem. lat   Gem. lng   PLZ    GKZ  \\\n",
       "2113           Adnet 5421 Gemeindeamt  47.696628  13.131849  5421  50202   \n",
       "2114          Namlos 6623 Gemeindeamt  47.364252  10.671598  6623  70823   \n",
       "2115  Groß-Siegharts 3812 Gemeindeamt  48.791500  15.406551  3812  32207   \n",
       "2116  Bischofstetten 3232 Gemeindeamt  48.123478  15.470588  3232  31504   \n",
       "2117                 Vorderweißenbach  48.550000  14.216667  4191  41625   \n",
       "2118                        Peuerbach  48.345556  13.774167  4722  40819   \n",
       "2119                            Vogau  46.731944  15.600278  8472  61058   \n",
       "2120                          Murfeld  46.712869  15.692617  8423  62347   \n",
       "2121                       Helfenberg  48.533333  14.133333  4184  41310   \n",
       "2122                      Reigersdorf  46.649600  14.403000  9064  61056   \n",
       "\n",
       "          Gemeindename  \n",
       "2113             Adnet  \n",
       "2114            Namlos  \n",
       "2115    Groß-Siegharts  \n",
       "2116    Bischofstetten  \n",
       "2117  Vorderweißenbach  \n",
       "2118         Peuerbach  \n",
       "2119             Vogau  \n",
       "2120           Murfeld  \n",
       "2121        Helfenberg  \n",
       "2122       Reigersdorf  "
      ]
     },
     "execution_count": 11,
     "metadata": {},
     "output_type": "execute_result"
    }
   ],
   "source": [
    "HCP.tail(10)"
   ]
  },
  {
   "cell_type": "markdown",
   "metadata": {},
   "source": [
    "## Only run if whole distance matrix should be re-calculated"
   ]
  },
  {
   "cell_type": "code",
   "execution_count": 13,
   "metadata": {},
   "outputs": [],
   "source": [
    "### get all combinations of municipalities\n",
    "from itertools import combinations\n",
    "combinations = list(combinations(HCP.GKZ,2))"
   ]
  },
  {
   "cell_type": "code",
   "execution_count": 22,
   "metadata": {
    "scrolled": true
   },
   "outputs": [
    {
     "data": {
      "application/vnd.jupyter.widget-view+json": {
       "model_id": "d7973f5c99b84553acea0216f7e5567c",
       "version_major": 2,
       "version_minor": 0
      },
      "text/plain": [
       "IntProgress(value=0, max=2252503)"
      ]
     },
     "metadata": {},
     "output_type": "display_data"
    }
   ],
   "source": [
    "distmatrix = pd.DataFrame(columns=HCP.GKZ,index=HCP.GKZ)\n",
    "\n",
    "max_count = len(combinations)\n",
    "f = IntProgress(min=0, max=max_count) # instantiate the bar\n",
    "display(f) # display the bar\n",
    "i = 0\n",
    "\n",
    "### loop over all possible distances between municipalities\n",
    "for comb in combinations:\n",
    "    bezirk1 = comb[0]\n",
    "    bezirk2 = comb[1]\n",
    "\n",
    "    P1_coor = HCP.loc[HCP.GKZ==bezirk1,'Gem. lat'].item(), HCP.loc[HCP.GKZ==bezirk1,'Gem. lng'].item()\n",
    "    P2_coor = HCP.loc[HCP.GKZ==bezirk2,'Gem. lat'].item(), HCP.loc[HCP.GKZ==bezirk2,'Gem. lng'].item()\n",
    "\n",
    "    dist = distance.distance(P1_coor,P2_coor).km\n",
    "    distmatrix.loc[bezirk1,bezirk2] = np.round(dist,2) \n",
    "    \n",
    "    ### same for bezirk2, bezirk1\n",
    "    distmatrix.loc[bezirk2,bezirk1] = np.round(dist,2)\n",
    "\n",
    "    f.value = i # update the progress bar\n",
    "    i += 1"
   ]
  },
  {
   "cell_type": "code",
   "execution_count": 23,
   "metadata": {},
   "outputs": [
    {
     "name": "stdout",
     "output_type": "stream",
     "text": [
      "Current Time = 15:33:20\n"
     ]
    }
   ],
   "source": [
    "from datetime import datetime\n",
    "\n",
    "now = datetime.now()\n",
    "\n",
    "current_time = now.strftime(\"%H:%M:%S\")\n",
    "print(\"Current Time =\", current_time)"
   ]
  },
  {
   "cell_type": "markdown",
   "metadata": {},
   "source": [
    "# Check before saving!"
   ]
  },
  {
   "cell_type": "code",
   "execution_count": null,
   "metadata": {},
   "outputs": [],
   "source": [
    "distmatrix.tail()"
   ]
  },
  {
   "cell_type": "code",
   "execution_count": null,
   "metadata": {},
   "outputs": [],
   "source": [
    "distmatrix.to_csv('data/DistanceMatrix.csv')"
   ]
  },
  {
   "cell_type": "code",
   "execution_count": null,
   "metadata": {},
   "outputs": [],
   "source": []
  }
 ],
 "metadata": {
  "kernelspec": {
   "display_name": "Python 3",
   "language": "python",
   "name": "python3"
  },
  "language_info": {
   "codemirror_mode": {
    "name": "ipython",
    "version": 3
   },
   "file_extension": ".py",
   "mimetype": "text/x-python",
   "name": "python",
   "nbconvert_exporter": "python",
   "pygments_lexer": "ipython3",
   "version": "3.8.5"
  }
 },
 "nbformat": 4,
 "nbformat_minor": 4
}
