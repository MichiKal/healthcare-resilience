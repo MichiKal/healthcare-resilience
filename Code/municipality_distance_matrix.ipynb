{
 "cells": [
  {
   "cell_type": "markdown",
   "metadata": {},
   "source": [
    "# Create distance matrix (direct distance in km) between municipalities\n",
    "* Gemeinde = municipality"
   ]
  },
  {
   "cell_type": "code",
   "execution_count": null,
   "metadata": {},
   "outputs": [],
   "source": [
    "import pandas as pd\n",
    "import numpy as np\n",
    "import geopy\n",
    "from geopy.geocoders import Nominatim\n",
    "from geopy import distance\n",
    "\n",
    "### for progress bar in loops\n",
    "from ipywidgets import IntProgress\n",
    "from IPython.display import display\n",
    "import time"
   ]
  },
  {
   "cell_type": "markdown",
   "metadata": {},
   "source": [
    "## Read in file including geolocation of municipalities"
   ]
  },
  {
   "cell_type": "code",
   "execution_count": null,
   "metadata": {},
   "outputs": [],
   "source": [
    "HCP = pd.read_csv('data/municipality_geolocations.csv', encoding='utf-8')"
   ]
  },
  {
   "cell_type": "code",
   "execution_count": null,
   "metadata": {},
   "outputs": [],
   "source": [
    "# read file from statistik austria\n",
    "GEM = pd.read_excel('data/gemliste_knz.xls',usecols=['Gemeinde kennziffer', 'Gemeindename','PLZ des Gem.Amtes'],\n",
    "            skiprows=3, nrows=2117, dtype={'Gemeinde kennziffer':int,'Gemeindename':str,'PLZ des Gem.Amtes':int})\n",
    "GEM.rename(columns={'Gemeinde kennziffer':'GKZ','PLZ des Gem.Amtes':'PLZ'},inplace=True)\n",
    "\n",
    "\n",
    "HCP = HCP.join(GEM.set_index('PLZ'),on='PLZ')\n",
    "HCP.reset_index(drop=True,inplace=True)\n",
    "HCP.drop(np.where(~np.isfinite(HCP.GKZ))[0].item(),inplace=True)\n",
    "HCP.GKZ = HCP.GKZ.astype(int)\n",
    "\n",
    "\n",
    "HCP.drop_duplicates(['GKZ','Gemeindename'],keep='first',inplace=True)\n",
    "HCP.reset_index(drop=True,inplace=True)"
   ]
  },
  {
   "cell_type": "markdown",
   "metadata": {},
   "source": [
    "## Add municipality to distance matrix\n",
    "* some municipalities not in files - add manually after SIM error"
   ]
  },
  {
   "cell_type": "markdown",
   "metadata": {},
   "source": [
    "distmatrix = pd.read_csv('DistanceMatrix.csv',index_col=0,header=0)\n",
    "HCP = pd.read_csv('Gemeinden_geoloc.csv',index_col=0,header=0)"
   ]
  },
  {
   "cell_type": "code",
   "execution_count": null,
   "metadata": {},
   "outputs": [],
   "source": [
    "### new gemeinde\n",
    "gkz = 41625\n",
    "new_name = 'Vorderweißenbach'\n",
    "new_lat = 48.55\n",
    "new_long = 14.2166667\n",
    "new_PLZ = 4191\n",
    "\n",
    "HCP = HCP.append({'Gemeinde name': new_name,'Gem. lat':new_lat,'Gem. lng':new_long,'PLZ':new_PLZ,\n",
    "           'GKZ':gkz,'Gemeindename':new_name}, ignore_index=True)"
   ]
  },
  {
   "cell_type": "code",
   "execution_count": null,
   "metadata": {},
   "outputs": [],
   "source": [
    "### new gemeinde\n",
    "gkz = 40819\n",
    "new_name = 'Peuerbach'\n",
    "new_lat = 48.345556\n",
    "new_long = 13.774167\n",
    "new_PLZ = 4722\n",
    "\n",
    "HCP = HCP.append({'Gemeinde name': new_name,'Gem. lat':new_lat,'Gem. lng':new_long,'PLZ':new_PLZ,\n",
    "           'GKZ':gkz,'Gemeindename':new_name}, ignore_index=True)"
   ]
  },
  {
   "cell_type": "code",
   "execution_count": null,
   "metadata": {},
   "outputs": [],
   "source": [
    "### new gemeinde\n",
    "gkz = 61058\n",
    "new_name = 'Vogau'\n",
    "new_lat = 46.731944\n",
    "new_long = 15.600278\n",
    "new_PLZ = 8472\n",
    "\n",
    "HCP = HCP.append({'Gemeinde name': new_name,'Gem. lat':new_lat,'Gem. lng':new_long,'PLZ':new_PLZ,\n",
    "           'GKZ':gkz,'Gemeindename':new_name}, ignore_index=True)"
   ]
  },
  {
   "cell_type": "code",
   "execution_count": null,
   "metadata": {},
   "outputs": [],
   "source": [
    "### new gemeinde\n",
    "gkz = 62347\n",
    "new_name = 'Murfeld'\n",
    "new_lat = 46.712869\n",
    "new_long = 15.692617\n",
    "new_PLZ = 8423\n",
    "\n",
    "HCP = HCP.append({'Gemeinde name': new_name,'Gem. lat':new_lat,'Gem. lng':new_long,'PLZ':new_PLZ,\n",
    "           'GKZ':gkz,'Gemeindename':new_name}, ignore_index=True)"
   ]
  },
  {
   "cell_type": "code",
   "execution_count": null,
   "metadata": {},
   "outputs": [],
   "source": [
    "### new gemeinde\n",
    "gkz = 41310\n",
    "new_name = 'Helfenberg'\n",
    "new_lat = 48.533333\n",
    "new_long = 14.133333\n",
    "new_PLZ = 4184\n",
    "\n",
    "HCP = HCP.append({'Gemeinde name': new_name,'Gem. lat':new_lat,'Gem. lng':new_long,'PLZ':new_PLZ,\n",
    "           'GKZ':gkz,'Gemeindename':new_name}, ignore_index=True)"
   ]
  },
  {
   "cell_type": "code",
   "execution_count": null,
   "metadata": {},
   "outputs": [],
   "source": [
    "### new gemeinde\n",
    "gkz = 61056\n",
    "new_name = 'Reigersdorf'\n",
    "new_lat = 46.649600\n",
    "new_long = 14.403000\n",
    "new_PLZ = 9064\n",
    "\n",
    "HCP = HCP.append({'Gemeinde name': new_name,'Gem. lat':new_lat,'Gem. lng':new_long,'PLZ':new_PLZ,\n",
    "           'GKZ':gkz,'Gemeindename':new_name}, ignore_index=True)"
   ]
  },
  {
   "cell_type": "code",
   "execution_count": null,
   "metadata": {},
   "outputs": [],
   "source": [
    "HCP.tail(10)"
   ]
  },
  {
   "cell_type": "markdown",
   "metadata": {},
   "source": [
    "## Only run if whole distance matrix should be re-calculated"
   ]
  },
  {
   "cell_type": "code",
   "execution_count": null,
   "metadata": {
    "scrolled": true
   },
   "outputs": [],
   "source": [
    "distmatrix = pd.DataFrame(columns=HCP.GKZ,index=HCP.GKZ)\n",
    "\n",
    "max_count = len(distmatrix)*len(distmatrix)\n",
    "f = IntProgress(min=0, max=max_count) # instantiate the bar\n",
    "display(f) # display the bar\n",
    "i = 0\n",
    "\n",
    "c = 0\n",
    "for bezirk1 in HCP.GKZ:\n",
    "    c+=1\n",
    "    for bezirk2 in HCP.GKZ:\n",
    "\n",
    "        P1_coor = HCP.loc[HCP.GKZ==bezirk1,'Gem. lat'].item(), HCP.loc[HCP.GKZ==bezirk1,'Gem. lng'].item()\n",
    "        P2_coor = HCP.loc[HCP.GKZ==bezirk2,'Gem. lat'].item(), HCP.loc[HCP.GKZ==bezirk2,'Gem. lng'].item()\n",
    "\n",
    "        dist = distance.distance(P1_coor,P2_coor).km\n",
    "        distmatrix.loc[bezirk1,bezirk2] = np.round(dist,2) \n",
    "        \n",
    "        f.value = i # update the progress bar\n",
    "        i += 1"
   ]
  },
  {
   "cell_type": "markdown",
   "metadata": {},
   "source": [
    "# Check before saving!"
   ]
  },
  {
   "cell_type": "code",
   "execution_count": null,
   "metadata": {},
   "outputs": [],
   "source": [
    "distmatrix.tail()"
   ]
  },
  {
   "cell_type": "code",
   "execution_count": null,
   "metadata": {},
   "outputs": [],
   "source": [
    "distmatrix.to_csv('data/DistanceMatrix.csv')"
   ]
  },
  {
   "cell_type": "code",
   "execution_count": null,
   "metadata": {},
   "outputs": [],
   "source": []
  }
 ],
 "metadata": {
  "kernelspec": {
   "display_name": "Python 3",
   "language": "python",
   "name": "python3"
  },
  "language_info": {
   "codemirror_mode": {
    "name": "ipython",
    "version": 3
   },
   "file_extension": ".py",
   "mimetype": "text/x-python",
   "name": "python",
   "nbconvert_exporter": "python",
   "pygments_lexer": "ipython3",
   "version": "3.8.5"
  }
 },
 "nbformat": 4,
 "nbformat_minor": 4
}
