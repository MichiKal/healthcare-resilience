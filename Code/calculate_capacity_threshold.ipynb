{
 "cells": [
  {
   "cell_type": "markdown",
   "metadata": {},
   "source": [
    "# Calculate doctor capacity"
   ]
  },
  {
   "cell_type": "code",
   "execution_count": null,
   "metadata": {},
   "outputs": [],
   "source": [
    "import pandas as pd\n",
    "import numpy as np\n",
    "import scipy.sparse\n",
    "from os.path import join\n",
    "from datetime import datetime\n",
    "import matplotlib.pyplot as plt"
   ]
  },
  {
   "cell_type": "code",
   "execution_count": null,
   "metadata": {},
   "outputs": [],
   "source": [
    "data_path = 'data'  \n",
    "file_name = 'matched_and_imputed_doctors.csv'"
   ]
  },
  {
   "cell_type": "code",
   "execution_count": null,
   "metadata": {},
   "outputs": [],
   "source": [
    "# load the matched and filtered doctor data (only doctors with > 1000 patients / year)\n",
    "opening_hours = pd.read_csv(join(data_path, file_name))\n",
    "\n",
    "# calculate quarterly patient numbers (as in Ruggiero's PNAS paper)\n",
    "opening_hours['N_total_quarterly_patients'] = \\\n",
    "            opening_hours['N_total_yearly_patients'] / 4\n",
    "opening_hours['N_total_quarterly_patients'] = \\\n",
    "            opening_hours['N_total_quarterly_patients'].round().astype(int)\n",
    "opening_hours['N_unique_quarterly_patients'] = \\\n",
    "            opening_hours['N_unique_yearly_patients'] / 4\n",
    "opening_hours['N_unique_quarterly_patients'] = \\\n",
    "            opening_hours['N_unique_quarterly_patients'].round().astype(int)\n",
    "\n",
    "# drop day-based opening hour columns (they are not needed anymore)\n",
    "opening_hours = opening_hours.drop(columns = \\\n",
    "            ['{}_hours'.format(i) for\\\n",
    "            i in ['Mo', 'Di', 'Mi', 'Do', 'Fr', 'Sa', 'So']] + ['sex'])\n",
    "\n",
    "# list of doctor specializations in the dataset\n",
    "specs = opening_hours['specialization'].unique()"
   ]
  },
  {
   "cell_type": "markdown",
   "metadata": {},
   "source": [
    "## Model 1: flat capacity estimate"
   ]
  },
  {
   "cell_type": "code",
   "execution_count": null,
   "metadata": {},
   "outputs": [],
   "source": [
    "# capacity increase factor: all capacities are increased by 10%\n",
    "C = 0.1\n",
    "opening_hours['capacity_total_flat'] = \\\n",
    "            opening_hours['N_total_quarterly_patients'] * (1 + C)\n",
    "opening_hours['capacity_total_flat'] = \\\n",
    "            opening_hours['capacity_total_flat'].round().astype(int)\n",
    "opening_hours['capacity_unique_flat'] = \\\n",
    "            opening_hours['N_unique_quarterly_patients'] * (1 + C)\n",
    "opening_hours['capacity_unique_flat'] = \\\n",
    "            opening_hours['capacity_unique_flat'].round().astype(int)"
   ]
  },
  {
   "cell_type": "markdown",
   "metadata": {},
   "source": [
    "## Model 2: opening hour based capacity"
   ]
  },
  {
   "cell_type": "markdown",
   "metadata": {},
   "source": [
    "For opening hour intervals of 5 opening hours: calculate the median patient capacity (patients per quarter) of the upper 10% of doctors. Assign this median capacity to all doctors that do not belong to the doctors within the upper 10% of capacity."
   ]
  },
  {
   "cell_type": "code",
   "execution_count": null,
   "metadata": {},
   "outputs": [],
   "source": [
    "opening_hours['capacity_total_hour-based'] = opening_hours['N_total_quarterly_patients']\n",
    "opening_hours['capacity_unique_hour-based'] = opening_hours['N_unique_quarterly_patients']\n",
    "\n",
    "# threshold for the upper percentile: the \"maximum capacity\" will be calculated\n",
    "# as the median capacity of doctors in the upper (1-threshold) % of \n",
    "# doctors in a given speciality and hour bracket. The capacities of the doctors\n",
    "# in the lower threshold % will be set to this maximum capacity\n",
    "threshold = 0.9   ###0.9 original main setting\n",
    "\n",
    "# hour bracket for which upper capacities will be calculated\n",
    "hour_range_interval = 5\n",
    "hour_ranges = np.arange(0, opening_hours['total_weekly_hours'].max(), hour_range_interval)\n",
    "\n",
    "# iterate through all specializations\n",
    "for spec in specs:\n",
    "    # extract data from doctors from the current specialization\n",
    "    spec_data = opening_hours[opening_hours['specialization'] == spec]\n",
    "    # dictionary of the upper percentile medians in each hour-bracket for\n",
    "    # the given speciality\n",
    "    upper_percentile_medians = {i:np.nan for i in hour_ranges}\n",
    "    \n",
    "    # iterate through all hour brackets\n",
    "    for iv_start in hour_ranges:\n",
    "        # extract the data from doctors whose opening hours fall in the given\n",
    "        # hour bracket\n",
    "        interval_data = spec_data[ \\\n",
    "            (spec_data['total_weekly_hours'] >= iv_start) & \\\n",
    "            (spec_data['total_weekly_hours'] < iv_start + hour_range_interval)]\n",
    "        \n",
    "        # do the same calculation for both \"unique\" and \"total\" patient counts\n",
    "        for pat_type in ['total', 'unique']:\n",
    "            quantile = interval_data['N_{}_quarterly_patients'\\\n",
    "                                        .format(pat_type)].quantile(threshold)\n",
    "\n",
    "            # calculate the median capacity of the upper (1-threshold) % of docs\n",
    "            upper_median = interval_data[interval_data['N_{}_quarterly_patients'\\\n",
    "                    .format(pat_type)] >= quantile]['N_{}_quarterly_patients'\\\n",
    "                    .format(pat_type)].median()\n",
    "            # find the indices of all doctors of a given speciality and hour\n",
    "            # bracket that are not in the uper (1-threshold) % of capacities\n",
    "            lower_index = interval_data[interval_data['N_{}_quarterly_patients'\\\n",
    "                                    .format(pat_type)] < quantile].index\n",
    "            \n",
    "            # if the number of doctors in the lower threshold % of capacities is\n",
    "            # non-zero: set their capacities to the maximum capacity\n",
    "            if len(lower_index) > 0:\n",
    "                opening_hours.loc[lower_index, 'capacity_{}_hour-based'\\\n",
    "                                .format(pat_type)] = upper_median\n",
    "\n",
    "            \n",
    "opening_hours['capacity_total_hour-based'] = \\\n",
    "        opening_hours['capacity_total_hour-based'].round().astype(int)\n",
    "opening_hours['capacity_unique_hour-based'] = \\\n",
    "        opening_hours['capacity_unique_hour-based'].round().astype(int)"
   ]
  },
  {
   "cell_type": "code",
   "execution_count": null,
   "metadata": {},
   "outputs": [],
   "source": [
    "# visulaize capacities\n",
    "fig, axes = plt.subplots(5, 3, figsize=(20, 15))\n",
    "for spec, ax in zip(specs, axes.flatten()):\n",
    "    spec_data = opening_hours[opening_hours['specialization'] == spec]\n",
    "    median = spec_data['capacity_total_hour-based'].median()\n",
    "    ax.hist([spec_data['capacity_total_hour-based'], spec_data['N_total_quarterly_patients'],\\\n",
    "             spec_data['capacity_total_hour-based'] - spec_data['N_total_quarterly_patients']],\n",
    "             rwidth = 0.8, bins=range(int(spec_data['capacity_total_hour-based'].min()/1000)*1000, 10000, 500),\n",
    "             label=['total capacity', 'quarterly patients', 'free capacity'])\n",
    "    ax.plot([median, median], ax.get_ylim(), label='median capacity')\n",
    "    ax.set_title(spec)\n",
    "    ax.legend()\n",
    "    \n",
    "axes[4, 1].remove()\n",
    "axes[4, 2].remove()\n",
    "fig.tight_layout()"
   ]
  },
  {
   "cell_type": "markdown",
   "metadata": {},
   "source": [
    "## Model 3: maximum capacity"
   ]
  },
  {
   "cell_type": "markdown",
   "metadata": {},
   "source": [
    "For doctors that are not yet in the top 25 percentile of patient capacity, assign the median value of the top 25 percentile as capacity (regardless of opening hours)."
   ]
  },
  {
   "cell_type": "code",
   "execution_count": null,
   "metadata": {},
   "outputs": [],
   "source": [
    "def get_upper_median(data, spec, pat_type):\n",
    "    spec_data = data[data['specialization'] == spec]\n",
    "    quant_75 = spec_data['N_{}_quarterly_patients'.format(pat_type)].quantile(0.75)\n",
    "    quant_median = spec_data[spec_data['N_{}_quarterly_patients'.format(pat_type)] >=\\\n",
    "                             quant_75]['N_{}_quarterly_patients'.format(pat_type)].median()\n",
    "    return quant_median, quant_75"
   ]
  },
  {
   "cell_type": "code",
   "execution_count": null,
   "metadata": {},
   "outputs": [],
   "source": [
    "opening_hours['capacity_total_max'] = opening_hours['N_total_quarterly_patients']\n",
    "opening_hours['capacity_unique_max'] = opening_hours['N_unique_quarterly_patients']\n",
    "\n",
    "for spec in specs:\n",
    "    for pat_type in ['total', 'unique']:\n",
    "        upper_median, quant_75 = get_upper_median(opening_hours, spec, pat_type)\n",
    "        print('[{}, {}]: upper median {}, 75th percentile {}'.format(spec, pat_type, upper_median, quant_75))\n",
    "        lower_index = opening_hours[(opening_hours['specialization'] == spec) & \\\n",
    "                                    (opening_hours['N_{}_quarterly_patients'.format(pat_type)] < quant_75)].index\n",
    "        opening_hours.loc[lower_index, 'capacity_{}_max'.format(pat_type)] = upper_median\n",
    "        \n",
    "opening_hours['capacity_total_max'] = opening_hours['capacity_total_max'].round().astype(int)\n",
    "opening_hours['capacity_unique_max'] = opening_hours['capacity_unique_max'].round().astype(int)"
   ]
  },
  {
   "cell_type": "code",
   "execution_count": null,
   "metadata": {},
   "outputs": [],
   "source": [
    "fig, axes = plt.subplots(5, 3, figsize=(20, 15))\n",
    "for spec, ax in zip(specs, axes.flatten()):\n",
    "    spec_data = opening_hours[opening_hours['specialization'] == spec]\n",
    "    median = spec_data['capacity_total_max'].median()\n",
    "    ax.hist([spec_data['capacity_total_max'], spec_data['N_total_quarterly_patients'],\n",
    "             spec_data['capacity_total_max'] - spec_data['N_total_quarterly_patients']],\n",
    "             rwidth = 0.8, bins=range(int(spec_data['capacity_total_max'].min()/1000)*1000, 10000, 500),\n",
    "             label=['total capacity', 'quarterly patients', 'free capacity'])\n",
    "    ax.plot([median, median], ax.get_ylim(), label='median')\n",
    "    ax.set_title(spec)\n",
    "    ax.legend()\n",
    "    \n",
    "axes[4, 1].remove()\n",
    "axes[4, 2].remove()\n",
    "fig.tight_layout()"
   ]
  },
  {
   "cell_type": "markdown",
   "metadata": {},
   "source": [
    "## Save the data"
   ]
  },
  {
   "cell_type": "code",
   "execution_count": null,
   "metadata": {},
   "outputs": [],
   "source": [
    "today = datetime.now().date()\n",
    "opening_hours['adj_index'] = opening_hours.index\n",
    "opening_hours.to_csv('data/matched_and_imputed_doctors_with_capacity_threshold{}.csv'.format(threshold),\n",
    "                     index=False)"
   ]
  },
  {
   "cell_type": "code",
   "execution_count": null,
   "metadata": {},
   "outputs": [],
   "source": []
  },
  {
   "cell_type": "code",
   "execution_count": null,
   "metadata": {},
   "outputs": [],
   "source": []
  }
 ],
 "metadata": {
  "kernelspec": {
   "display_name": "Python 3",
   "language": "python",
   "name": "python3"
  },
  "language_info": {
   "codemirror_mode": {
    "name": "ipython",
    "version": 3
   },
   "file_extension": ".py",
   "mimetype": "text/x-python",
   "name": "python",
   "nbconvert_exporter": "python",
   "pygments_lexer": "ipython3",
   "version": "3.8.5"
  }
 },
 "nbformat": 4,
 "nbformat_minor": 4
}
