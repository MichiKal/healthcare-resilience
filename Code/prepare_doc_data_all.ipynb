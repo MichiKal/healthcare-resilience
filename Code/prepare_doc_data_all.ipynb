{
 "cells": [
  {
   "cell_type": "markdown",
   "metadata": {},
   "source": [
    "# Prepare doctor data for use in simulation\n",
    "* save adjacency number, num of patients, capacity and gemeinde info"
   ]
  },
  {
   "cell_type": "code",
   "execution_count": 1,
   "metadata": {},
   "outputs": [],
   "source": [
    "import pandas as pd\n",
    "from os.path import join"
   ]
  },
  {
   "cell_type": "markdown",
   "metadata": {},
   "source": [
    "## Set criteria for patients, timeframe and capacity"
   ]
  },
  {
   "cell_type": "code",
   "execution_count": 2,
   "metadata": {},
   "outputs": [],
   "source": [
    "# information selection criteria\n",
    "patient_type = 'total'\n",
    "capacity_type = 'hour-based'\n",
    "timeframe = 'quarterly'\n",
    "threshold = 0.9             # selected capacity threshold"
   ]
  },
  {
   "cell_type": "markdown",
   "metadata": {},
   "source": [
    "## Load and transform data"
   ]
  },
  {
   "cell_type": "code",
   "execution_count": 3,
   "metadata": {},
   "outputs": [],
   "source": [
    "data_path = 'data'\n",
    "docs = pd.read_csv(join(data_path, 'matched_and_imputed_doctors_with_capacity_threshold{}.csv'.format(threshold)))"
   ]
  },
  {
   "cell_type": "code",
   "execution_count": 4,
   "metadata": {},
   "outputs": [],
   "source": [
    "# add district-column (first 3 digits of municipality number)\n",
    "docs['bezirk'] = docs['gemeinde'].apply(lambda x: str(x)[0:3])\n",
    "docs['bezirk'] = docs['bezirk'].astype(int)"
   ]
  },
  {
   "cell_type": "code",
   "execution_count": 5,
   "metadata": {},
   "outputs": [],
   "source": [
    "# add federal state-column (first digits of district number)\n",
    "docs['bundesland'] = docs['gemeinde'].apply(lambda x: str(x)[0])\n",
    "docs['bundesland'] = docs['bundesland'].astype(int)"
   ]
  },
  {
   "cell_type": "code",
   "execution_count": 6,
   "metadata": {},
   "outputs": [],
   "source": [
    "doctors = docs.specialization.unique()"
   ]
  },
  {
   "cell_type": "markdown",
   "metadata": {},
   "source": [
    "### Add names of all federal states"
   ]
  },
  {
   "cell_type": "code",
   "execution_count": 7,
   "metadata": {},
   "outputs": [],
   "source": [
    "### fill in names of districs and states\n",
    "docs.loc[docs.bundesland==3,'bundesland'] = 'Niederösterreich'\n",
    "docs.loc[docs.bundesland==1,'bundesland'] = 'Burgenland'\n",
    "docs.loc[docs.bundesland==2,'bundesland'] = 'Kärnten'\n",
    "docs.loc[docs.bundesland==4,'bundesland'] = 'Oberösterreich'\n",
    "docs.loc[docs.bundesland==5,'bundesland'] = 'Salzburg_BL'\n",
    "docs.loc[docs.bundesland==6,'bundesland'] = 'Steiermark'\n",
    "docs.loc[docs.bundesland==7,'bundesland'] = 'Tirol'\n",
    "docs.loc[docs.bundesland==8,'bundesland'] = 'Voralberg'\n",
    "docs.loc[docs.bundesland==9,'bundesland'] = 'Wien'\n",
    "\n",
    "docs.loc[docs.bezirk==101,'bezirk'] = 'Eisenstadt'\n",
    "docs.loc[docs.bezirk==201,'bezirk'] = 'Klagenfurt'\n",
    "docs.loc[docs.bezirk==302,'bezirk'] = 'StPolten'\n",
    "docs.loc[docs.bezirk==401,'bezirk'] = 'Linz'\n",
    "docs.loc[docs.bezirk==501,'bezirk'] = 'Salzburg'\n",
    "docs.loc[docs.bezirk==601,'bezirk'] = 'Graz'\n",
    "docs.loc[docs.bezirk==701,'bezirk'] = 'Innsbruck'\n",
    "docs.loc[docs.bezirk==802,'bezirk'] = 'Bregenz'"
   ]
  },
  {
   "cell_type": "code",
   "execution_count": 8,
   "metadata": {},
   "outputs": [],
   "source": [
    "### use whole country now as underlying network\n",
    "bezirk = 'Österreich'"
   ]
  },
  {
   "cell_type": "code",
   "execution_count": 9,
   "metadata": {},
   "outputs": [],
   "source": [
    "docs.bezirk = docs.bezirk.astype(str)"
   ]
  },
  {
   "cell_type": "markdown",
   "metadata": {},
   "source": [
    "## Loop over districts and doctors"
   ]
  },
  {
   "cell_type": "code",
   "execution_count": 10,
   "metadata": {},
   "outputs": [],
   "source": [
    "for specialization in doctors:\n",
    "    # for all austria\n",
    "    doc_save = docs[docs['specialization'] == specialization]\n",
    "\n",
    "    ## Select information (capacity, # patients)\n",
    "    N_patients_col = 'N_{}_{}_patients'.format(patient_type, timeframe)\n",
    "    capacity_col = 'capacity_{}_{}'.format(patient_type, capacity_type)\n",
    "\n",
    "    doc_save = doc_save[['adj_index', N_patients_col, capacity_col,'gemeinde']]  # added 'gemeinde' 22.12.20\n",
    "    doc_save = doc_save.rename(columns={N_patients_col:'number_of_patients',\n",
    "                        capacity_col:'capacity'})\n",
    "\n",
    "    ## Save data\n",
    "    doc_save.reset_index(drop=True, inplace=True)\n",
    "    doc_save.to_csv(join(data_path, 'doctor_info_bez={}_spec={}_ptype={}_ctype={}_tf={}_th={}.csv'\\\n",
    "            .format(bezirk, specialization, patient_type, capacity_type, timeframe, threshold)), index=False)"
   ]
  },
  {
   "cell_type": "code",
   "execution_count": null,
   "metadata": {},
   "outputs": [],
   "source": []
  }
 ],
 "metadata": {
  "kernelspec": {
   "display_name": "Python 3",
   "language": "python",
   "name": "python3"
  },
  "language_info": {
   "codemirror_mode": {
    "name": "ipython",
    "version": 3
   },
   "file_extension": ".py",
   "mimetype": "text/x-python",
   "name": "python",
   "nbconvert_exporter": "python",
   "pygments_lexer": "ipython3",
   "version": "3.8.5"
  }
 },
 "nbformat": 4,
 "nbformat_minor": 4
}
