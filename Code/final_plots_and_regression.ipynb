{
 "cells": [
  {
   "cell_type": "markdown",
   "metadata": {},
   "source": [
    "# Choose final figures for results\n",
    "* used to create Figures 2, 3 and 4 from the paper\n",
    "* add a simple linear regression of LP/FC to risk and benefit scores"
   ]
  },
  {
   "cell_type": "code",
   "execution_count": null,
   "metadata": {},
   "outputs": [],
   "source": [
    "import pandas as pd\n",
    "import numpy as np\n",
    "import matplotlib.pyplot as plt\n",
    "import os\n",
    "from os.path import join\n",
    "import seaborn as sns\n",
    "import colorcet as cc"
   ]
  },
  {
   "cell_type": "code",
   "execution_count": null,
   "metadata": {},
   "outputs": [],
   "source": [
    "sns.set(font_scale = 2.5)"
   ]
  },
  {
   "cell_type": "code",
   "execution_count": null,
   "metadata": {},
   "outputs": [],
   "source": [
    "def get_cmap(n, name='tab20b'):\n",
    "    ### Returns function that maps numbers to colors. 'name' is a colormap name.\n",
    "    return plt.cm.get_cmap(name, n)"
   ]
  },
  {
   "cell_type": "code",
   "execution_count": null,
   "metadata": {},
   "outputs": [],
   "source": [
    "### define states and their IDs\n",
    "states = {'state':['Burgenland','Carinthia','Lower Austria','Upper Austria','Salzburg','Styria',\n",
    "                       'Tyrol','Vorarlberg','Vienna'],'state_id':[1,2,3,4,5,6,7,8,9]}\n",
    "\n",
    "### english short name versions\n",
    "doc_list = {'DE':['AM', 'AU', 'CH', 'DER', 'GGH', 'HNO', 'IM', 'KI', 'NEU', 'ORTR','PSY', 'RAD', 'URO'],\n",
    "            'EN':['GP','OPH','SRG','DER','OBGYN','ENT','IM','PED','NEU','ORTH','PSY','RAD','URO']}\n",
    "\n",
    "### read risk benefit file and node list file of network\n",
    "risk_benefit = pd.read_csv('results/Risk_Benefit_table.csv')\n",
    "NL = pd.read_csv('results/PSNW_NodeList.csv',encoding='ISO-8859-15')\n",
    "final = NL.join(risk_benefit.set_index('docid'),on='docid').drop(columns='specialty')\n",
    "\n",
    "### risk and benefit\n",
    "final_gr = final.groupby('fg').agg({'Risk':['mean','std'],'Benefit':['mean','std']}) * (-1)\n",
    "final_gr.loc[:,('Risk','std')] = final_gr.Risk['std'].values*(-1)\n",
    "final_gr.loc[:,('Benefit','std')] = final_gr.Benefit['std'].values*(-1)\n",
    "\n",
    "final_gr = final.groupby(['state_ID','fg']).agg({'Risk':['mean','std'],'Benefit':['mean','std']}).reset_index()"
   ]
  },
  {
   "cell_type": "code",
   "execution_count": null,
   "metadata": {},
   "outputs": [],
   "source": [
    "### read results dataframe\n",
    "df = pd.read_csv('results/DF_results_Final.csv')\n",
    "\n",
    "### select df up to limit\n",
    "LPlimit = 1\n",
    "FClimit = 20\n",
    "\n",
    "LP = df[df.lost_patients_state<=LPlimit][['run','state','specialty','shock','lost_patients_state','perc_docs_removed']]\n",
    "FC = df[df.remaining_FC_filled<=FClimit][['run','state','specialty','shock','remaining_FC_filled','perc_docs_removed']]\n",
    "\n",
    "### lost patients per state and specialist for selected limit\n",
    "idx = LP.groupby(['state','specialty','run'])['lost_patients_state'].transform(max) == LP['lost_patients_state']\n",
    "LP = LP[idx]\n",
    "LP = LP.sort_values(['state','specialty','run','perc_docs_removed'],ascending=True).drop_duplicates(subset=\n",
    "        ['state','specialty','run'], keep='last')[['run','state','specialty','shock','lost_patients_state',\n",
    "                                             'perc_docs_removed']]\n",
    "\n",
    "LP.reset_index(drop=True,inplace=True)\n",
    "\n",
    "### lost patients per state and specialist for selected limit\n",
    "idx = FC.groupby(['state','specialty','run'])['remaining_FC_filled'].transform(max) == FC['remaining_FC_filled']\n",
    "FC = FC[idx]\n",
    "FC = FC.sort_values(['state','specialty','run','perc_docs_removed'],ascending=True).drop_duplicates(subset=\n",
    "        ['state','specialty','run'], keep='last')[['run','state','specialty','shock','remaining_FC_filled',\n",
    "                                             'perc_docs_removed']]\n",
    "\n",
    "FC.reset_index(drop=True,inplace=True)\n",
    "\n",
    "### mean over all runs\n",
    "LP = LP.groupby(['state','specialty']).agg({'perc_docs_removed':'mean'}).reset_index()\n",
    "FC = FC.groupby(['state','specialty']).agg({'perc_docs_removed':'mean'}).reset_index()\n",
    "\n",
    "### mean and std over all states\n",
    "FC = FC.groupby('specialty').agg({'perc_docs_removed':['mean','std']})\n",
    "LP = LP.groupby('specialty').agg({'perc_docs_removed':['mean','std']})"
   ]
  },
  {
   "cell_type": "markdown",
   "metadata": {},
   "source": [
    "## Scatter plots (Figure 4)\n",
    "* LP vs. FC limits for %docs removed"
   ]
  },
  {
   "cell_type": "code",
   "execution_count": null,
   "metadata": {},
   "outputs": [],
   "source": [
    "### risk benefit\n",
    "final_part = final.groupby(['fg']).agg({'Risk':['mean','std'],'Benefit':['mean','std']}).reset_index()\n",
    "cmap = get_cmap(len(final_part[('Benefit','mean')].values))"
   ]
  },
  {
   "cell_type": "code",
   "execution_count": null,
   "metadata": {},
   "outputs": [],
   "source": [
    "font = 28\n",
    "fig, ax = plt.subplots(1,2,figsize=(19,8))\n",
    "for i in range(0,len(final_part[('Benefit','mean')].values)):\n",
    "    ax[1].errorbar(x=final_part[('Risk','mean')].values[i],y = final_part[('Benefit','mean')].values[i],fmt='o',\n",
    "                 xerr=final_part[('Risk','std')].values[i],yerr=final_part[('Benefit','std')].values[i],\n",
    "                 capsize=6, ms=10, capthick=3,elinewidth=2,c=cmap(i))\n",
    "    \n",
    "for i in range(0,len(FC[('perc_docs_removed','mean')].values)):\n",
    "    ax[0].errorbar(x=FC[('perc_docs_removed','mean')].values[i],y = LP[('perc_docs_removed','mean')].values[i],fmt='o',\n",
    "                 xerr=FC[('perc_docs_removed','std')].values[i],yerr=LP[('perc_docs_removed','std')].values[i],\n",
    "                 capsize=6, ms=10, capthick=3,elinewidth=2,c=cmap(i))\n",
    "\n",
    "\n",
    "### add a) b) to panels\n",
    "ax[0].annotate('a)', xy=(0.03,0.92),xycoords='figure fraction', fontsize=26)\n",
    "ax[1].annotate('b)', xy=(0.46,0.92),xycoords='figure fraction', fontsize=26)\n",
    "    \n",
    "#plt.suptitle('Austria',fontsize=font)\n",
    "ax[0].set_xlabel(r'$L_{FC}$ [%]',fontsize=font)\n",
    "ax[0].set_ylabel(r'$L_{LP}$ [%]',fontsize=font)\n",
    "ax[0].set_xlim([0,100])   #baseline setting [8,20]\n",
    "ax[0].set_ylim([0,100])   #baseline setting [5,60]\n",
    "\n",
    "\n",
    "ax[1].set_xlabel('Risk',fontsize=font)\n",
    "ax[1].set_ylabel('Benefit',fontsize=font)\n",
    "ax[1].set_xlim([0,1])      #baseline setting [0.3,0.9]\n",
    "ax[1].set_ylim([0,1])      #baseline setting [0,1]\n",
    "plt.legend(doc_list['EN'],bbox_to_anchor=(1.4, 1),fontsize=20)\n",
    "plt.tight_layout()\n",
    "fig.subplots_adjust(wspace=0.25)\n",
    "\n",
    "plt.savefig('figures/Final_Scatter.svg',format='svg')\n",
    "plt.savefig('figures/Final_Scatter.png',format='png',dpi=300)\n",
    "\n",
    "plt.show()"
   ]
  },
  {
   "cell_type": "markdown",
   "metadata": {},
   "source": [
    "## Line plots (Figure 2 and SI Figures)"
   ]
  },
  {
   "cell_type": "code",
   "execution_count": null,
   "metadata": {},
   "outputs": [],
   "source": [
    "# information selection criteria\n",
    "patient_type = 'total'\n",
    "capacity_type = 'hour-based'\n",
    "timeframe = 'quarterly'\n",
    "\n",
    "### read doc info and sim info\n",
    "N = pd.read_excel('results/states_doc_info_{}_{}_{}.xlsx'.format(patient_type, capacity_type, timeframe))\n",
    "dta = pd.read_csv('results/DF_results_Final.csv')\n",
    "N.set_index('state',inplace=True)\n",
    "\n",
    "### rename states to english\n",
    "dta.loc[dta.state=='Burgenland','state'] = 'Burgenland'\n",
    "dta.loc[dta.state=='Kärnten','state'] = 'Carinthia'\n",
    "dta.loc[dta.state=='Niederösterreich','state'] = 'Lower Austria'\n",
    "dta.loc[dta.state=='Oberösterreich','state'] = 'Upper Austria'\n",
    "dta.loc[dta.state=='Salzburg','state'] = 'Salzburg'\n",
    "dta.loc[dta.state=='Steiermark','state'] = 'Styria'\n",
    "dta.loc[dta.state=='Tirol','state'] = 'Tyrol'\n",
    "dta.loc[dta.state=='Vorarlberg','state'] = 'Vorarlberg'\n",
    "dta.loc[dta.state=='Wien','state'] = 'Vienna'"
   ]
  },
  {
   "cell_type": "code",
   "execution_count": null,
   "metadata": {
    "scrolled": true
   },
   "outputs": [],
   "source": [
    "### combined lineplots\n",
    "font = 26\n",
    "sns.set(font_scale = 2)\n",
    "\n",
    "for doc in dta.specialty.unique():\n",
    "    fig, ax = plt.subplots(1,2,figsize=(14,6.5))\n",
    "    ### lost patients (summed up over shocks!)\n",
    "    sns.lineplot(ax = ax[0], x = 'perc_docs_removed',y = 'lost_patients_state',data=dta[dta.specialty==doc],\n",
    "                 hue='state')\n",
    "    ax[0].set_ylabel('Lost patients [%]',fontsize=font)\n",
    "    ax[0].set_xlabel('Removed physicians [%]',fontsize=font)\n",
    "    ax[0].plot([0,100],[LPlimit,LPlimit],'k--')\n",
    "\n",
    "\n",
    "    ### remaining free capacity\n",
    "    sns.lineplot(ax = ax[1], data = dta[dta.specialty==doc], x = 'perc_docs_removed',y = 'remaining_FC_filled',\n",
    "                 hue = 'state',legend=False)\n",
    "    ax[1].set_ylabel('Free capacity filled [%]',fontsize=font)\n",
    "    ax[1].set_xlabel('Removed physicians [%]',fontsize=font)\n",
    "    ax[1].plot([0,100],[FClimit,FClimit],'k--')\n",
    "\n",
    "    ### add a) b) to panels\n",
    "    ax[0].annotate('a)', xy=(0.03,0.86),xycoords='figure fraction', fontsize=22)\n",
    "    ax[1].annotate('b)', xy=(0.51,0.86),xycoords='figure fraction', fontsize=22)\n",
    "\n",
    "    plt.suptitle(doc_list['EN'][doc_list['DE'].index(doc)],fontsize=font)\n",
    "    ax[0].legend(loc='upper left',fontsize=font-10)\n",
    "    plt.tight_layout(h_pad=2)\n",
    "    plt.subplots_adjust(top=0.85)\n",
    "\n",
    "    plt.savefig('figures/LPFC_states_main_{}.svg'.format(doc),bbox_inches = 'tight',format = 'svg')\n",
    "    plt.savefig('figures/LPFC_states_main_{}.PNG'.format(doc),bbox_inches = 'tight',format = 'png',dpi=200)\n",
    "    plt.show()"
   ]
  },
  {
   "cell_type": "code",
   "execution_count": null,
   "metadata": {},
   "outputs": [],
   "source": []
  },
  {
   "cell_type": "markdown",
   "metadata": {},
   "source": [
    "# Heatmaps (Figure 3)\n",
    "* critical limits for LP and FC for state vs. speciality "
   ]
  },
  {
   "cell_type": "code",
   "execution_count": null,
   "metadata": {},
   "outputs": [],
   "source": [
    "### read results dataframe \n",
    "df = pd.read_csv('results/DF_results_Final.csv')\n",
    "\n",
    "### select df up to limit\n",
    "LPlimit = 1\n",
    "FClimit = 20\n",
    "\n",
    "LP = df[df.lost_patients_state<=LPlimit][['run','state','specialty','shock','lost_patients_state','perc_docs_removed']]\n",
    "FC = df[df.remaining_FC_filled<=FClimit][['run','state','specialty','shock','remaining_FC_filled','perc_docs_removed']]\n",
    "\n",
    "### rename to english states\n",
    "LP.loc[LP.state=='Kärnten','state'] = 'Carinthia'\n",
    "LP.loc[LP.state=='Niederösterreich','state'] = 'Lower Austria'\n",
    "LP.loc[LP.state=='Oberösterreich','state'] = 'Upper Austria'\n",
    "LP.loc[LP.state=='Steiermark','state'] = 'Styria'\n",
    "LP.loc[LP.state=='Tirol','state'] = 'Tyrol'\n",
    "LP.loc[LP.state=='Wien','state'] = 'Vienna'\n",
    "\n",
    "FC.loc[FC.state=='Kärnten','state'] = 'Carinthia'\n",
    "FC.loc[FC.state=='Niederösterreich','state'] = 'Lower Austria'\n",
    "FC.loc[FC.state=='Oberösterreich','state'] = 'Upper Austria'\n",
    "FC.loc[FC.state=='Steiermark','state'] = 'Styria'\n",
    "FC.loc[FC.state=='Tirol','state'] = 'Tyrol'\n",
    "FC.loc[FC.state=='Wien','state'] = 'Vienna'"
   ]
  },
  {
   "cell_type": "code",
   "execution_count": null,
   "metadata": {},
   "outputs": [],
   "source": [
    "### lost patients per state and specialist for selected limit\n",
    "idx = LP.groupby(['state','specialty','run'])['lost_patients_state'].transform(max) == LP['lost_patients_state']\n",
    "LP = LP[idx]\n",
    "LP = LP.sort_values(['state','specialty','run','perc_docs_removed'],ascending=True).drop_duplicates(subset=\n",
    "        ['state','specialty','run'], keep='last')[['run','state','specialty','shock','lost_patients_state',\n",
    "                                             'perc_docs_removed']]\n",
    "\n",
    "LP.reset_index(drop=True,inplace=True)\n",
    "\n",
    "### lost patients per state and specialist for selected limit\n",
    "idx = FC.groupby(['state','specialty','run'])['remaining_FC_filled'].transform(max) == FC['remaining_FC_filled']\n",
    "FC = FC[idx]\n",
    "FC = FC.sort_values(['state','specialty','run','perc_docs_removed'],ascending=True).drop_duplicates(subset=\n",
    "        ['state','specialty','run'], keep='last')[['run','state','specialty','shock','remaining_FC_filled',\n",
    "                                             'perc_docs_removed']]\n",
    "\n",
    "FC.reset_index(drop=True,inplace=True)"
   ]
  },
  {
   "cell_type": "code",
   "execution_count": null,
   "metadata": {},
   "outputs": [],
   "source": [
    "### mean and stand.deviation nof perc_docs_removed over all runs\n",
    "LP = LP.groupby(['state','specialty']).agg({'perc_docs_removed':['mean','std']}).reset_index()\n",
    "FC = FC.groupby(['state','specialty']).agg({'perc_docs_removed':['mean','std']}).reset_index()\n",
    "\n",
    "### drop multicolumns names\n",
    "LP.columns = ['state','specialty','perc_docs_removed_mean','perc_docs_removed_std']\n",
    "FC.columns = ['state','specialty','perc_docs_removed_mean','perc_docs_removed_std']\n",
    "\n",
    "### add info on state ID\n",
    "states = {'state':['Burgenland','Carinthia','Lower Austria','Upper Austria',\n",
    "                       'Salzburg','Styria','Tyrol','Vorarlberg','Vienna'],'state_id':[1,2,3,4,5,6,7,8,9]}\n",
    "\n",
    "LP['state_ID'] = 0\n",
    "FC['state_ID'] = 0\n",
    "for s,i in zip(states['state'],states['state_id']):\n",
    "    LP.loc[LP.state==s,'state_ID'] = i\n",
    "    FC.loc[FC.state==s,'state_ID'] = i\n",
    "\n",
    "### switch order\n",
    "LP = LP[['state', 'state_ID', 'specialty','perc_docs_removed_mean','perc_docs_removed_std']]\n",
    "FC = FC[['state', 'state_ID', 'specialty','perc_docs_removed_mean','perc_docs_removed_std']]\n",
    "\n",
    "### dataframes for heatmaps\n",
    "LPheat = pd.DataFrame(columns = LP.state.unique(),index = doc_list['EN'])\n",
    "FCheat = pd.DataFrame(columns = LP.state.unique(),index = doc_list['EN'])\n",
    "\n",
    "### fill in\n",
    "for fg in doc_list['EN']:\n",
    "    for st in LP.state.unique():\n",
    "        if len(LP.loc[(LP.state==st)&(LP.specialty==doc_list['DE'][doc_list['EN'].index(fg)]),'perc_docs_removed_mean'])>0:\n",
    "            LPheat.loc[fg,st] = float(LP.loc[(LP.state==st)&(LP.specialty==doc_list['DE'][doc_list['EN'].index(fg)]),'perc_docs_removed_mean'].item())\n",
    "            LPheat[st] = LPheat[st].astype(float)\n",
    "        if len(FC.loc[(FC.state==st)&(FC.specialty==doc_list['DE'][doc_list['EN'].index(fg)]),'perc_docs_removed_mean'])>0:\n",
    "            FCheat.loc[fg,st] = float(FC.loc[(FC.state==st)&(FC.specialty==doc_list['DE'][doc_list['EN'].index(fg)]),'perc_docs_removed_mean'].item())\n",
    "            FCheat[st] = FCheat[st].astype(float)\n",
    "\n",
    "FCheat = FCheat.sort_values(by='Burgenland')\n",
    "LPheat = LPheat.reindex(FCheat.index.values)"
   ]
  },
  {
   "cell_type": "code",
   "execution_count": null,
   "metadata": {},
   "outputs": [],
   "source": [
    "import seaborn as sns\n",
    "sns.set(font_scale=1)\n",
    "f, (ax1,ax2) = plt.subplots(1,2,figsize=(16,6))\n",
    "\n",
    "### heatmap for free capacity\n",
    "h1 = sns.heatmap(FCheat,annot=True,linewidths=0.5,vmin=0,vmax=np.ceil(FCheat.max().max()),cmap='cividis',ax=ax1,cbar_kws={'label':'Removed physicians [%]'})\n",
    "ax1.xaxis.tick_top()\n",
    "h1.set_yticklabels(h1.get_yticklabels(),rotation=0,fontsize=14)\n",
    "h1.set_xticklabels(h1.get_xticklabels(),rotation=45,fontsize=14,horizontalalignment='left')\n",
    "h1.set_title(r'$L_{FC}$',fontsize=18, y=-0.1)\n",
    "h1.figure.axes[-1].yaxis.label.set_size(18)\n",
    "\n",
    "\n",
    "### heatmap for lost patients\n",
    "h2 = sns.heatmap(LPheat,annot=True,linewidths=0.5,vmin=0,vmax=np.ceil(LPheat.max().max()),cmap='viridis',ax=ax2,\n",
    "                 cbar_kws={'label':'Removed physicians [%]'})\n",
    "ax2.xaxis.tick_top()\n",
    "h2.set_yticklabels(h2.get_yticklabels(),rotation=0,fontsize=14)\n",
    "h2.set_xticklabels(h2.get_xticklabels(),rotation=45,fontsize=14,horizontalalignment='left')\n",
    "h2.set_title(r'$L_{LP}$',fontsize=18, y=-0.1)\n",
    "h2.figure.axes[-1].yaxis.label.set_size(18)\n",
    "\n",
    "### add a) b) to panels\n",
    "ax1.annotate('a)', xy=(0.045,0.92),xycoords='figure fraction', fontsize=22)\n",
    "ax2.annotate('b)', xy=(0.53,0.92),xycoords='figure fraction', fontsize=22)\n",
    "\n",
    "plt.savefig('figures/LPFC_heatmap.svg',bbox_inches = 'tight',format = 'svg')\n",
    "plt.savefig('figures/LPFC_heatmap.PNG',bbox_inches = 'tight',format = 'png',dpi=200)\n",
    "plt.show()"
   ]
  },
  {
   "cell_type": "code",
   "execution_count": null,
   "metadata": {},
   "outputs": [],
   "source": []
  },
  {
   "cell_type": "code",
   "execution_count": null,
   "metadata": {},
   "outputs": [],
   "source": []
  },
  {
   "cell_type": "markdown",
   "metadata": {},
   "source": [
    "## Linear regression for LP/FC to risk and benefit\n",
    "* LP/FC ~ < risk > + < benefit > + const.\n",
    "* for every state & specialty\n",
    "* only gives meaningful results with entire dataset, otherwise NaN for missing values in states and specialties"
   ]
  },
  {
   "cell_type": "code",
   "execution_count": null,
   "metadata": {},
   "outputs": [],
   "source": [
    "### combine all info into one dataframe\n",
    "FC['RiskScore'] = 0\n",
    "FC['BenefitScore'] = 0\n",
    "FC['LP'] = 0\n",
    "FC['FC'] = 0\n",
    "\n",
    "for st in FC.state_ID.unique():\n",
    "    for d in FC.specialty.unique():\n",
    "        # risk & benefit\n",
    "        if len(final_gr.loc[(final_gr.state_ID==st)&(final_gr.fg==d),('Risk','mean')])>0:\n",
    "            FC.loc[(FC.state_ID==st)&(FC.specialty==d),'RiskScore'] = final_gr.loc[(final_gr.state_ID==st)&\n",
    "                                                                        (final_gr.fg==d),('Risk','mean')].item()\n",
    "        if len(final_gr.loc[(final_gr.state_ID==st)&(final_gr.fg==d),('Benefit','mean')])>0:\n",
    "            FC.loc[(FC.state_ID==st)&(FC.specialty==d),'BenefitScore'] = final_gr.loc[(final_gr.state_ID==st)&\n",
    "                                                                        (final_gr.fg==d),('Benefit','mean')].item()\n",
    "        \n",
    "        # LP & FC\n",
    "        if len(FC.loc[(FC.state_ID==st)&(FC.specialty==d),'perc_docs_removed_mean'])>0:\n",
    "            FC.loc[(FC.state_ID==st)&(FC.specialty==d),'FC'] = FC.loc[(FC.state_ID==st)&(FC.specialty==d),\n",
    "                                                                  'perc_docs_removed_mean'].item()\n",
    "        if len(LP.loc[(LP.state_ID==st)&(LP.specialty==d),'perc_docs_removed_mean'])>0:\n",
    "            FC.loc[(FC.state_ID==st)&(FC.specialty==d),'LP'] = LP.loc[(LP.state_ID==st)&(LP.specialty==d),\n",
    "                                                                  'perc_docs_removed_mean'].item()"
   ]
  },
  {
   "cell_type": "code",
   "execution_count": null,
   "metadata": {},
   "outputs": [],
   "source": [
    "#FC.drop(columns=['num_docs_removed','perc_free_capacity','perc_docs_removed'],inplace=True)\n",
    "df = FC.copy()"
   ]
  },
  {
   "cell_type": "code",
   "execution_count": null,
   "metadata": {},
   "outputs": [],
   "source": [
    "### Linear regression\n",
    "from sklearn.linear_model import LinearRegression\n",
    "from IPython.display import display\n",
    "\n",
    "reg = pd.DataFrame(columns=['LP','FC'],index=['RiskScore','BenefitScore'])\n",
    "\n",
    "for out in ['FC','LP']:\n",
    "    X = df[['RiskScore','BenefitScore']].copy()\n",
    "    y = df[out].copy()\n",
    "\n",
    "    if np.all(X.isna())==True:\n",
    "        res = LinearRegression(normalize=True).fit(X,y)\n",
    "\n",
    "        reg.loc['RiskScore',out] = res.coef_[0]\n",
    "        reg.loc['BenefitScore',out] = res.coef_[1]\n",
    "display(reg)"
   ]
  },
  {
   "cell_type": "code",
   "execution_count": null,
   "metadata": {
    "scrolled": true
   },
   "outputs": [],
   "source": [
    "### speciality specific\n",
    "reg_all = pd.DataFrame()\n",
    "    \n",
    "for sp in df.specialty.unique():\n",
    "    reg = pd.DataFrame(columns=['LP','FC','specialty'],index=['RiskScore','BenefitScore'])\n",
    "    for out in ['FC','LP']:\n",
    "        X = df.loc[df.specialty==sp,['RiskScore','BenefitScore']].copy()\n",
    "        y = df.loc[df.specialty==sp,out].copy()\n",
    "\n",
    "        if np.all(X.isna())==True:\n",
    "            res = LinearRegression(normalize=True).fit(X,y)\n",
    "\n",
    "            reg.loc['RiskScore',out] = res.coef_[0]\n",
    "            reg.loc['BenefitScore',out] = res.coef_[1]\n",
    "            reg.specialty = sp\n",
    "    reg_all = pd.concat([reg_all,reg])\n",
    "    print('---------  '+sp+'  -----------')\n",
    "    display(reg)"
   ]
  },
  {
   "cell_type": "code",
   "execution_count": null,
   "metadata": {},
   "outputs": [],
   "source": [
    "reg_all = reg_all.reset_index()\n",
    "reg_all.rename(columns={'index':'score'},inplace=True)\n",
    "reg_all.LP = reg_all.LP.astype(float)\n",
    "reg_all.FC = reg_all.FC.astype(float)"
   ]
  },
  {
   "cell_type": "code",
   "execution_count": null,
   "metadata": {},
   "outputs": [],
   "source": [
    "### averaged coefficient sizes for risk and benefit scores over all specialties\n",
    "display(np.round(reg_all[['LP','FC','score']].groupby('score').mean(),0))\n",
    "display(np.round(reg_all[['LP','FC','score']].groupby('score').std(),0))"
   ]
  },
  {
   "cell_type": "code",
   "execution_count": null,
   "metadata": {},
   "outputs": [],
   "source": []
  }
 ],
 "metadata": {
  "kernelspec": {
   "display_name": "Python 3",
   "language": "python",
   "name": "python3"
  },
  "language_info": {
   "codemirror_mode": {
    "name": "ipython",
    "version": 3
   },
   "file_extension": ".py",
   "mimetype": "text/x-python",
   "name": "python",
   "nbconvert_exporter": "python",
   "pygments_lexer": "ipython3",
   "version": "3.8.5"
  }
 },
 "nbformat": 4,
 "nbformat_minor": 4
}
