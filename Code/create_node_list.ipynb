{
 "cells": [
  {
   "cell_type": "markdown",
   "metadata": {},
   "source": [
    "# Create node list containing geolocation\n",
    "* nodes (ID, speciality, Gemeinde, num_initial_patients)"
   ]
  },
  {
   "cell_type": "code",
   "execution_count": null,
   "metadata": {},
   "outputs": [],
   "source": [
    "import pandas as pd\n",
    "from os.path import join\n",
    "import numpy as np\n",
    "from scipy import sparse "
   ]
  },
  {
   "cell_type": "code",
   "execution_count": null,
   "metadata": {},
   "outputs": [],
   "source": [
    "MF = pd.read_csv('data/matched_and_imputed_doctors_with_capacity_threshold0.9.csv')\n",
    "\n",
    "NL = MF[['adj_index','specialization','N_total_quarterly_patients','gemeinde']].copy()\n",
    "NL.rename(columns={'adj_index':'docid','specialization':'fg','gemeinde':'gemeinde_id',\n",
    "                   'N_total_quarterly_patients':'initial_patients'},inplace=True)"
   ]
  },
  {
   "cell_type": "code",
   "execution_count": null,
   "metadata": {},
   "outputs": [],
   "source": [
    "### add info on latitude, longitude and gemeinde name\n",
    "HCP = pd.read_csv('data/municipality_geolocations.csv', encoding='utf-8')\n",
    "\n",
    "# file from statistik austria\n",
    "GEM = pd.read_excel('data/gemliste_knz.xls',usecols=['Gemeinde kennziffer', 'Gemeindename','PLZ des Gem.Amtes'],\n",
    "            skiprows=3, nrows=2117, dtype={'Gemeinde kennziffer':int,'Gemeindename':str,'PLZ des Gem.Amtes':int})\n",
    "GEM.rename(columns={'Gemeinde kennziffer':'GKZ','PLZ des Gem.Amtes':'PLZ'},inplace=True)\n",
    "\n",
    "HCP = HCP.join(GEM.set_index('PLZ'),on='PLZ')\n",
    "HCP.reset_index(drop=True,inplace=True)\n",
    "HCP.drop(np.where(~np.isfinite(HCP.GKZ))[0].item(),inplace=True)\n",
    "HCP.GKZ = HCP.GKZ.astype(int)\n",
    "\n",
    "HCP.drop_duplicates(['GKZ','Gemeindename'],keep='first',inplace=True)\n",
    "HCP.reset_index(drop=True,inplace=True)"
   ]
  },
  {
   "cell_type": "code",
   "execution_count": null,
   "metadata": {},
   "outputs": [],
   "source": [
    "### new gemeinde\n",
    "gkz = 41625\n",
    "new_name = 'Vorderweißenbach'\n",
    "new_lat = 48.55\n",
    "new_long = 14.2166667\n",
    "new_PLZ = 4191\n",
    "\n",
    "HCP = HCP.append({'Gemeinde name': new_name,'Gem. lat':new_lat,'Gem. lng':new_long,'PLZ':new_PLZ,\n",
    "           'GKZ':gkz,'Gemeindename':new_name}, ignore_index=True)\n",
    "\n",
    "### new gemeinde\n",
    "gkz = 40819\n",
    "new_name = 'Peuerbach'\n",
    "new_lat = 48.345556\n",
    "new_long = 13.774167\n",
    "new_PLZ = 4722\n",
    "\n",
    "HCP = HCP.append({'Gemeinde name': new_name,'Gem. lat':new_lat,'Gem. lng':new_long,'PLZ':new_PLZ,\n",
    "           'GKZ':gkz,'Gemeindename':new_name}, ignore_index=True)\n",
    "\n",
    "### new gemeinde\n",
    "gkz = 61058\n",
    "new_name = 'Vogau'\n",
    "new_lat = 46.731944\n",
    "new_long = 15.600278\n",
    "new_PLZ = 8472\n",
    "\n",
    "HCP = HCP.append({'Gemeinde name': new_name,'Gem. lat':new_lat,'Gem. lng':new_long,'PLZ':new_PLZ,\n",
    "           'GKZ':gkz,'Gemeindename':new_name}, ignore_index=True)\n",
    "\n",
    "### new gemeinde\n",
    "gkz = 62347\n",
    "new_name = 'Murfeld'\n",
    "new_lat = 46.712869\n",
    "new_long = 15.692617\n",
    "new_PLZ = 8423\n",
    "\n",
    "HCP = HCP.append({'Gemeinde name': new_name,'Gem. lat':new_lat,'Gem. lng':new_long,'PLZ':new_PLZ,\n",
    "           'GKZ':gkz,'Gemeindename':new_name}, ignore_index=True)\n",
    "\n",
    "### new gemeinde\n",
    "gkz = 41310\n",
    "new_name = 'Helfenberg'\n",
    "new_lat = 48.533333\n",
    "new_long = 14.133333\n",
    "new_PLZ = 4184\n",
    "\n",
    "HCP = HCP.append({'Gemeinde name': new_name,'Gem. lat':new_lat,'Gem. lng':new_long,'PLZ':new_PLZ,\n",
    "           'GKZ':gkz,'Gemeindename':new_name}, ignore_index=True)\n",
    "\n",
    "### new gemeinde\n",
    "gkz = 61056\n",
    "new_name = 'Reigersdorf'\n",
    "new_lat = 46.649600\n",
    "new_long = 14.403000\n",
    "new_PLZ = 9064\n",
    "\n",
    "HCP = HCP.append({'Gemeinde name': new_name,'Gem. lat':new_lat,'Gem. lng':new_long,'PLZ':new_PLZ,\n",
    "           'GKZ':gkz,'Gemeindename':new_name}, ignore_index=True)"
   ]
  },
  {
   "cell_type": "code",
   "execution_count": null,
   "metadata": {},
   "outputs": [],
   "source": [
    "### add district and federal state IDs\n",
    "NL['district_ID'] = [int(str(x)[0:3]) for x in NL.gemeinde_id]\n",
    "NL['state_ID'] = [int(str(x)[0]) for x in NL.gemeinde_id]\n",
    "\n",
    "NL = NL.join(HCP[['Gem. lat', 'Gem. lng', 'GKZ', 'Gemeindename']].rename(columns={'GKZ':'gemeinde_id'})\\\n",
    "    .set_index('gemeinde_id'), on='gemeinde_id')\n",
    "\n",
    "NL.rename(columns={'Gem. lat':'gemeinde_lat','Gem. lng':'gemeinde_lng',\n",
    "                   'Gemeindename':'gemeinde_name'},inplace=True)"
   ]
  },
  {
   "cell_type": "code",
   "execution_count": null,
   "metadata": {},
   "outputs": [],
   "source": [
    "NL.to_csv('results/PSNW_NodeList.csv',sep=',',index=False,encoding='ISO-8859-15')"
   ]
  },
  {
   "cell_type": "code",
   "execution_count": null,
   "metadata": {},
   "outputs": [],
   "source": []
  }
 ],
 "metadata": {
  "kernelspec": {
   "display_name": "Python 3",
   "language": "python",
   "name": "python3"
  },
  "language_info": {
   "codemirror_mode": {
    "name": "ipython",
    "version": 3
   },
   "file_extension": ".py",
   "mimetype": "text/x-python",
   "name": "python",
   "nbconvert_exporter": "python",
   "pygments_lexer": "ipython3",
   "version": "3.8.5"
  }
 },
 "nbformat": 4,
 "nbformat_minor": 4
}
